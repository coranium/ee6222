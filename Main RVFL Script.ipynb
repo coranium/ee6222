{
 "cells": [
  {
   "cell_type": "code",
   "execution_count": 2,
   "metadata": {},
   "outputs": [],
   "source": [
    "import numpy as np\n",
    "import random\n",
    "from function import RVFL_train_val\n",
    "import h5py\n",
    "from option import option as op\n",
    "import time"
   ]
  },
  {
   "cell_type": "markdown",
   "metadata": {},
   "source": [
    "#### Key parameters for assignment:\n",
    "Q1) option.link = 0 or 1 <br>\n",
    "Q2) option.bias = 0 or 1 <br>\n",
    "Q3) option.scale = 2 ^ np.linspace(-5, 5, 21) <br>\n",
    "Q4) option.actfn =  sigmoid,radbas,sine,sign OR hardlim, tribas. <br>\n",
    "Q5) option.mode = 1 (regularised least sq) or 2 (moore penrose) <br>"
   ]
  },
  {
   "cell_type": "code",
   "execution_count": 37,
   "metadata": {},
   "outputs": [],
   "source": [
    "def read_data(dataset_name):\n",
    "    temp = h5py.File(\"UCI data python\\\\\" + dataset_name + \"_R.mat\", 'r')\n",
    "    data = np.array(temp['data']).T\n",
    "    \n",
    "    # skip index columns and split features/labels\n",
    "    data = data[:, 1:]\n",
    "    dataX = data[:, 0:-1]\n",
    "    dataY = data[:, -1]\n",
    "    dataY = np.expand_dims(dataY, 1)\n",
    "    \n",
    "    # do normalization for each feature\n",
    "    dataX_mean = np.mean(dataX, axis=0)\n",
    "    dataX_std = np.std(dataX, axis=0)\n",
    "    dataX = (dataX - dataX_mean) / dataX_std\n",
    "\n",
    "    # Do train/test split according to consuntos file\n",
    "    temp = h5py.File(\"UCI data python\\\\\" + dataset_name + \"_conxuntos.mat\" ,'r') \n",
    "    index1 = np.array(temp['index1']).astype(np.int32) - 1\n",
    "    index2 = np.array(temp['index2']).astype(np.int32) - 1\n",
    "    index1 = np.squeeze(index1, axis=1)\n",
    "    index2 = np.squeeze(index2, axis=1)\n",
    "\n",
    "    trainX = dataX[index1, :]\n",
    "    trainY = dataY[index1, :]\n",
    "    testX = dataX[index2, :]\n",
    "    testY = dataY[index2, :]\n",
    "    \n",
    "    # Get indexes for KFolds\n",
    "    temp = h5py.File(\"UCI data python\\\\\" + dataset_name + \"_conxuntos_kfold.mat\" ,'r')\n",
    "    index = []\n",
    "    for i in range(8):\n",
    "        index_temp = np.array([temp[element[i]][:] for element in temp['index']]).astype(np.int32) - 1\n",
    "        index_temp = np.squeeze(index_temp, axis=0)\n",
    "        index_temp = np.squeeze(index_temp, axis=1)\n",
    "        index.append(index_temp)\n",
    "    temp.close()\n",
    "    \n",
    "    return trainX, trainY, testX, testY, (index, dataX, dataY)   "
   ]
  },
  {
   "cell_type": "code",
   "execution_count": 29,
   "metadata": {},
   "outputs": [],
   "source": [
    "# Code to search optimal N and C using default params\n",
    "# Initialise options and params\n",
    "def tune_params(trainX, trainY, testX, testY):\n",
    "    print('Tuning RVFL....')\n",
    "    max_acc, best_N, best_C = 0, 0, 0\n",
    "    option = op()\n",
    "    option.link = 1\n",
    "    option.bias = 1\n",
    "    option.Scale = 1\n",
    "    option.ActivationFunction = 'radbas'\n",
    "    option.mode = 1\n",
    "\n",
    "    start = time.time()\n",
    "    for N in range(3, 204, 20):\n",
    "        for C in range(-5, 15):\n",
    "            # Tune these 2\n",
    "            option.N = N\n",
    "            option.C = 2 ** C\n",
    "\n",
    "            _, test_accuracy = RVFL_train_val(trainX, trainY, testX, testY, option)\n",
    "\n",
    "             # parameter tuning: we prefer the parameter which lead to better accuracy on the test data\n",
    "            if test_accuracy > max_acc: \n",
    "                max_acc = test_accuracy\n",
    "                best_N, best_C = N, C\n",
    "                \n",
    "    print(f'Time taken = {time.time()-start:0.2f} seconds')\n",
    "    print(f'Maximum test accuracy was {max_acc*100:0.2f}%, using N = {best_N} and C = {best_C}')\n",
    "    return best_N, best_C\n",
    "    "
   ]
  },
  {
   "cell_type": "code",
   "execution_count": 34,
   "metadata": {},
   "outputs": [],
   "source": [
    "def validate(data, link = 1, bias = 1, scale = 1, act_fn = 'radbas', mode = 1, N = 3, C = 1):\n",
    "    # Define options with given params\n",
    "    index, dataX, dataY = data\n",
    "    val_option = op(N = N,\n",
    "                C = 2**C,\n",
    "                link = link,\n",
    "                bias = bias,\n",
    "                Scale = scale,\n",
    "                ActivationFunction = act_fn,\n",
    "                mode = mode                \n",
    "                )\n",
    "    acc = np.zeros(4)\n",
    "    # Loop through 4 folds and validate\n",
    "    for i in range(4):\n",
    "        trainX = dataX[index[2 * i], :]\n",
    "        trainY = dataY[index[2 * i], :]\n",
    "        testX = dataX[index[2 * i + 1], :]\n",
    "        testY = dataY[index[2 * i + 1], :]\n",
    "\n",
    "        _, acc[i] = RVFL_train_val(trainX, trainY, testX, testY, val_option)\n",
    "\n",
    "    #print(f'Mean Val accuracy in 4 fold is {acc.mean()*100:0.2f}%')\n",
    "    return acc.mean()"
   ]
  },
  {
   "cell_type": "code",
   "execution_count": 65,
   "metadata": {},
   "outputs": [],
   "source": [
    "def main(dataset):\n",
    "    trainX, trainY, testX, testY, data = read_data(dataset)\n",
    "    \n",
    "    print('Training Data Shape: ',trainX.shape,'\\nTesting Data Shape:', testX.shape)\n",
    "    print('TrainX Mean and STD', trainX.mean(), trainX.std())\n",
    "    print('TestX Mean and STD', testX.mean(), testX.std())\n",
    "    print('No. of classes:', len(np.unique(trainY)),'\\nClass Labels:', np.unique(trainY))\n",
    "    \n",
    "    N,C = tune_params(trainX, trainY, testX, testY)\n",
    "    \n",
    "    kfold_acc = []\n",
    "    kfold_acc.append(validate(data, N = N, C = C))\n",
    "    kfold_acc.append(validate(data, link = 0, N = N, C = C))\n",
    "    kfold_acc.append(validate(data, bias = 0, N = N, C = C))\n",
    "    kfold_acc.append(validate(data, mode = 2, N = N, C = C))\n",
    "    kfold_acc.append(validate(data, act_fn='tribas', N = N, C = C))\n",
    "    kfold_acc = [round(x*100, 2) for x in kfold_acc]\n",
    "    max_acc, best_s = 0, 0\n",
    "    for scale in np.linspace(-5, 5, 21):\n",
    "        acc = validate(data, scale = 2**scale, N = N, C = C)\n",
    "        if acc > max_acc:\n",
    "            max_acc = acc\n",
    "            best_s = scale\n",
    "    kfold_acc.append((best_s,round(max_acc*100,2)))\n",
    "    #return (kfold_acc)"
   ]
  },
  {
   "cell_type": "code",
   "execution_count": 55,
   "metadata": {},
   "outputs": [
    {
     "name": "stdout",
     "output_type": "stream",
     "text": [
      "Training Data Shape:  (313, 4) \n",
      "Testing Data Shape: (312, 4)\n",
      "Train Mean and STD 0.011295632284761216 0.990707740448745\n",
      "Train Mean and STD -0.011331836234391865 1.0091090383419214\n",
      "No. of classes: 3 \n",
      "Class Labels: [0. 1. 2.]\n",
      "Tuning RVFL....\n",
      "Time taken = 1.26 seconds\n",
      "Maximum test accuracy was 92.63%, using N = 83 and C = 7\n",
      "[91.03, 91.03, 91.03, 90.87, 92.47, (1.5, 93.27)]\n"
     ]
    }
   ],
   "source": [
    "main('balance_scale')"
   ]
  },
  {
   "cell_type": "code",
   "execution_count": 56,
   "metadata": {},
   "outputs": [
    {
     "name": "stdout",
     "output_type": "stream",
     "text": [
      "Training Data Shape:  (864, 6) \n",
      "Testing Data Shape: (864, 6)\n",
      "Train Mean and STD -0.007730272451021512 0.9897391912291658\n",
      "Train Mean and STD 0.007730272451021451 1.01009743050891\n",
      "No. of classes: 4 \n",
      "Class Labels: [0. 1. 2. 3.]\n",
      "Tuning RVFL....\n",
      "Time taken = 4.56 seconds\n",
      "Maximum test accuracy was 95.95%, using N = 183 and C = 8\n",
      "[95.2, 95.14, 95.14, 95.08, 92.36, (0.0, 95.2)]\n"
     ]
    }
   ],
   "source": [
    "main('car')"
   ]
  },
  {
   "cell_type": "code",
   "execution_count": 66,
   "metadata": {},
   "outputs": [
    {
     "name": "stdout",
     "output_type": "stream",
     "text": [
      "Training Data Shape:  (737, 9) \n",
      "Testing Data Shape: (736, 9)\n",
      "TrainX Mean and STD -0.0009095826382162517 0.9897626551816237\n",
      "TestX Mean and STD 0.0009108184841921084 1.0101464769175452\n",
      "No. of classes: 3 \n",
      "Class Labels: [0. 1. 2.]\n",
      "Tuning RVFL....\n",
      "Time taken = 3.70 seconds\n",
      "Maximum test accuracy was 52.85%, using N = 163 and C = -4\n"
     ]
    }
   ],
   "source": [
    "main('contrac')"
   ]
  },
  {
   "cell_type": "code",
   "execution_count": 57,
   "metadata": {},
   "outputs": [
    {
     "name": "stdout",
     "output_type": "stream",
     "text": [
      "Training Data Shape:  (345, 15) \n",
      "Testing Data Shape: (345, 15)\n",
      "Train Mean and STD 0.009789348477715634 1.0404599986917131\n",
      "Train Mean and STD -0.009789348477715652 0.9577323887366471\n",
      "No. of classes: 2 \n",
      "Class Labels: [0. 1.]\n",
      "Tuning RVFL....\n",
      "Time taken = 1.36 seconds\n",
      "Maximum test accuracy was 89.86%, using N = 23 and C = 5\n",
      "[86.48, 83.28, 86.48, 86.92, 86.34, (-4.0, 88.08)]\n"
     ]
    }
   ],
   "source": [
    "main('credit_approval')"
   ]
  },
  {
   "cell_type": "code",
   "execution_count": 58,
   "metadata": {},
   "outputs": [
    {
     "name": "stdout",
     "output_type": "stream",
     "text": [
      "Training Data Shape:  (500, 7) \n",
      "Testing Data Shape: (500, 7)\n",
      "Train Mean and STD 0.0028891534124725403 0.9992752571280451\n",
      "Train Mean and STD -0.002889153412472573 1.0007158767986035\n",
      "No. of classes: 10 \n",
      "Class Labels: [0. 1. 2. 3. 4. 5. 6. 7. 8. 9.]\n",
      "Tuning RVFL....\n",
      "Time taken = 3.82 seconds\n",
      "Maximum test accuracy was 72.20%, using N = 3 and C = 1\n",
      "[72.7, 38.4, 73.0, 72.7, 72.8, (0.5, 72.9)]\n"
     ]
    }
   ],
   "source": [
    "main('led_display')"
   ]
  },
  {
   "cell_type": "code",
   "execution_count": 59,
   "metadata": {},
   "outputs": [
    {
     "name": "stdout",
     "output_type": "stream",
     "text": [
      "Training Data Shape:  (1595, 60) \n",
      "Testing Data Shape: (1595, 60)\n",
      "Train Mean and STD -0.002785969381028657 1.0016319161737697\n",
      "Train Mean and STD 0.002785969381028664 0.9983576419556661\n",
      "No. of classes: 3 \n",
      "Class Labels: [0. 1. 2.]\n",
      "Tuning RVFL....\n",
      "Time taken = 9.12 seconds\n",
      "Maximum test accuracy was 80.19%, using N = 23 and C = -3\n",
      "[80.43, 51.76, 80.4, 81.37, 74.69, (2.5, 80.9)]\n"
     ]
    }
   ],
   "source": [
    "main('molec_biol_splice')"
   ]
  },
  {
   "cell_type": "code",
   "execution_count": 60,
   "metadata": {},
   "outputs": [
    {
     "name": "stdout",
     "output_type": "stream",
     "text": [
      "Training Data Shape:  (3700, 20) \n",
      "Testing Data Shape: (3700, 20)\n",
      "Train Mean and STD -0.0029062757604696406 1.0011692391315408\n",
      "Train Mean and STD 0.002906275760469651 0.9988209357733648\n",
      "No. of classes: 2 \n",
      "Class Labels: [0. 1.]\n",
      "Tuning RVFL....\n",
      "Time taken = 18.44 seconds\n",
      "Maximum test accuracy was 96.38%, using N = 143 and C = 5\n",
      "[95.97, 95.51, 91.42, 95.96, 96.76, (2.0, 97.74)]\n"
     ]
    }
   ],
   "source": [
    "main('ringnorm')"
   ]
  },
  {
   "cell_type": "code",
   "execution_count": 61,
   "metadata": {},
   "outputs": [
    {
     "name": "stdout",
     "output_type": "stream",
     "text": [
      "Training Data Shape:  (2301, 57) \n",
      "Testing Data Shape: (2300, 57)\n",
      "Train Mean and STD 0.0058683669028863445 1.0176719956538907\n",
      "Train Mean and STD -0.005870918366757164 0.981967049417251\n",
      "No. of classes: 2 \n",
      "Class Labels: [0. 1.]\n",
      "Tuning RVFL....\n",
      "Time taken = 13.44 seconds\n",
      "Maximum test accuracy was 91.52%, using N = 183 and C = 4\n",
      "[91.17, 89.39, 91.09, 91.33, 90.76, (3.0, 91.85)]\n"
     ]
    }
   ],
   "source": [
    "main('spambase')"
   ]
  },
  {
   "cell_type": "code",
   "execution_count": 64,
   "metadata": {},
   "outputs": [
    {
     "name": "stdout",
     "output_type": "stream",
     "text": [
      "Training Data Shape:  (797, 256) \n",
      "Testing Data Shape: (796, 256)\n",
      "Train Mean and STD 0.002165341274335672 0.9997924251729191\n",
      "Train Mean and STD -0.002168061552318513 1.000203095862763\n",
      "No. of classes: 10 \n",
      "Class Labels: [0. 1. 2. 3. 4. 5. 6. 7. 8. 9.]\n",
      "Tuning RVFL....\n",
      "Time taken = 8.87 seconds\n",
      "Maximum test accuracy was 90.20%, using N = 83 and C = 0\n",
      "[89.01, 57.6, 89.13, 86.12, 87.81, (0.0, 89.01)]\n"
     ]
    }
   ],
   "source": [
    "main('semeion')"
   ]
  },
  {
   "cell_type": "code",
   "execution_count": 63,
   "metadata": {},
   "outputs": [
    {
     "name": "stdout",
     "output_type": "stream",
     "text": [
      "Training Data Shape:  (2500, 21) \n",
      "Testing Data Shape: (2500, 21)\n",
      "Train Mean and STD -0.001999555627883342 1.0022877285362837\n",
      "Train Mean and STD 0.0019995556278833435 0.9977030183276777\n",
      "No. of classes: 3 \n",
      "Class Labels: [0. 1. 2.]\n",
      "Tuning RVFL....\n",
      "Time taken = 12.08 seconds\n",
      "Maximum test accuracy was 87.32%, using N = 103 and C = -5\n",
      "[86.02, 77.82, 86.04, 86.28, 84.78, (0.0, 86.02)]\n"
     ]
    }
   ],
   "source": [
    "main('waveform')"
   ]
  },
  {
   "cell_type": "code",
   "execution_count": null,
   "metadata": {},
   "outputs": [],
   "source": []
  }
 ],
 "metadata": {
  "kernelspec": {
   "display_name": "Python 3",
   "language": "python",
   "name": "python3"
  },
  "language_info": {
   "codemirror_mode": {
    "name": "ipython",
    "version": 3
   },
   "file_extension": ".py",
   "mimetype": "text/x-python",
   "name": "python",
   "nbconvert_exporter": "python",
   "pygments_lexer": "ipython3",
   "version": "3.8.5"
  }
 },
 "nbformat": 4,
 "nbformat_minor": 4
}
